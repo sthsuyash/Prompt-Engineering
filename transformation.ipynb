{
 "cells": [
  {
   "attachments": {},
   "cell_type": "markdown",
   "id": "056a1ccd",
   "metadata": {},
   "source": [
    "# Transforming"
   ]
  },
  {
   "attachments": {},
   "cell_type": "markdown",
   "id": "889ac061",
   "metadata": {},
   "source": [
    "Exploring how to use Large Language Models(LLMs) for text transformation tasks such as:\n",
    "1. language translation\n",
    "2. spelling and grammer checking\n",
    "3. tone adjustment\n",
    "4. format conversation"
   ]
  },
  {
   "attachments": {},
   "cell_type": "markdown",
   "id": "c034e3c3",
   "metadata": {},
   "source": [
    "## Setup"
   ]
  },
  {
   "cell_type": "code",
   "execution_count": null,
   "id": "278b9400",
   "metadata": {},
   "outputs": [],
   "source": [
    "from utils import get_completion\n"
   ]
  },
  {
   "attachments": {},
   "cell_type": "markdown",
   "id": "67efc7ed",
   "metadata": {},
   "source": [
    "## Translation"
   ]
  },
  {
   "attachments": {},
   "cell_type": "markdown",
   "id": "974ce7d1",
   "metadata": {},
   "source": [
    "LLMs are trained on large amounts of text data. This allows them to learn the structure of language and the meaning of words. This allows them to be used for translation tasks.\n",
    "\n",
    "They are able to translate between languages without being explicitly trained to do so. This is because they learn the structure of language and the meaning of words. This allows them to translate between languages without being explicitly trained to do so."
   ]
  },
  {
   "attachments": {},
   "cell_type": "markdown",
   "id": "c8235154",
   "metadata": {},
   "source": [
    "This can be helpful in situations where there is a lack of data for a particular language pair. For example, if there is a lack of data for a particular language pair, then the LLM can be used to translate between languages without being explicitly trained to do so.\n",
    "\n",
    "We can know what is the text explaining about by using the LLMs to translate between languages."
   ]
  },
  {
   "attachments": {},
   "cell_type": "markdown",
   "id": "fa16c4b2",
   "metadata": {},
   "source": [
    "### For translating from English to French"
   ]
  },
  {
   "cell_type": "code",
   "execution_count": null,
   "id": "e6269adf",
   "metadata": {},
   "outputs": [],
   "source": [
    "prompt = f'''\n",
    "Translate the following English text to French:\n",
    "```Hello, can you help me get to the nearest hospital?```\n",
    "'''\n",
    "\n",
    "reponse = get_completion(prompt)\n",
    "print(reponse)\n"
   ]
  },
  {
   "attachments": {},
   "cell_type": "markdown",
   "id": "2b4fe710",
   "metadata": {},
   "source": [
    "### Detecting language"
   ]
  },
  {
   "cell_type": "code",
   "execution_count": null,
   "id": "97561501",
   "metadata": {},
   "outputs": [],
   "source": [
    "prompt = f'''\n",
    "Tell me which language this is: \n",
    "```तिमि कहाँ बस्छौ?```\n",
    "Also translate it to English.\n",
    "'''\n",
    "response = get_completion(prompt)\n",
    "print(response)\n"
   ]
  },
  {
   "attachments": {},
   "cell_type": "markdown",
   "id": "1f091ce6",
   "metadata": {},
   "source": [
    "### Multiple translations"
   ]
  },
  {
   "cell_type": "code",
   "execution_count": null,
   "id": "eeb8b53b",
   "metadata": {},
   "outputs": [],
   "source": [
    "prompt = f'''\n",
    "Translate the following text to Nepali and Chinese:\n",
    "```Hello, how can you serve the community?```\n",
    "'''\n",
    "\n",
    "response = get_completion(prompt)\n",
    "print(response)\n"
   ]
  },
  {
   "attachments": {},
   "cell_type": "markdown",
   "id": "ef5a1c53",
   "metadata": {},
   "source": [
    "### Formal and Informal"
   ]
  },
  {
   "cell_type": "code",
   "execution_count": null,
   "id": "98ff4045",
   "metadata": {},
   "outputs": [],
   "source": [
    "prompt = f'''\n",
    "Translate the following text to Nepali in both formal and informal ways:\n",
    "```Are you studying in school?```\n",
    "'''\n",
    "\n",
    "response = get_completion(prompt)\n",
    "print(response)\n"
   ]
  },
  {
   "attachments": {},
   "cell_type": "markdown",
   "id": "9bb46ee2",
   "metadata": {},
   "source": [
    "## Universal Translator"
   ]
  },
  {
   "attachments": {},
   "cell_type": "markdown",
   "id": "ff431793",
   "metadata": {},
   "source": [
    "Let us suppose that we are in charge of a big corporation that has offices all over the world. We want to make sure that all of our employees are able to communicate with each other, no matter what language they speak. We also want to make sure that all of our employees are able to communicate with each other, no matter what language they speak."
   ]
  },
  {
   "cell_type": "code",
   "execution_count": null,
   "id": "a88b42b0",
   "metadata": {},
   "outputs": [],
   "source": [
    "user_messages = [\n",
    "    \"Hello, can you help me get to the nearest hospital?\",\n",
    "    \"Si vous avez besoin d'aide, n'hésitez pas à me demander.\",\n",
    "    \"어떤 아름다운 날이야!\",\n",
    "    \"Vamos a ver el fútbol esta noche!\"\n",
    "]\n"
   ]
  },
  {
   "cell_type": "code",
   "execution_count": null,
   "id": "c4f58eea",
   "metadata": {},
   "outputs": [],
   "source": [
    "for message in user_messages:\n",
    "    prompt = f'''\n",
    "    Tell me which language this is: ```{message}```\n",
    "    '''\n",
    "    lang = get_completion(prompt)\n",
    "    print(f\"Original: {message}\")\n",
    "    print(f\"Language: {lang}\")\n",
    "\n",
    "    prompt = f'''\n",
    "    Translate the following text to English and Nepali: ```{message}```\n",
    "    '''\n",
    "\n",
    "    response = get_completion(prompt)\n",
    "    print(f\"Translation: \\n{response}\")\n"
   ]
  },
  {
   "attachments": {},
   "cell_type": "markdown",
   "id": "536065f9",
   "metadata": {},
   "source": [
    "## Tone Translation"
   ]
  },
  {
   "attachments": {},
   "cell_type": "markdown",
   "id": "8de9e1a3",
   "metadata": {},
   "source": [
    "Writing can vary based on the tone of the writer. For example, a writer may be writing a formal letter to a friend, or a casual email to a colleague. The tone of the writing can vary based on the tone of the writer."
   ]
  },
  {
   "cell_type": "code",
   "execution_count": null,
   "id": "20b00d43",
   "metadata": {},
   "outputs": [],
   "source": [
    "prompt = f'''\n",
    "Translate the following text from slang to a business letter:\n",
    "```Hey bud! How's it going? It's yo boy Gabey here. I'm just chilling with my homies. Hope to chill with you soon.```\n",
    "'''\n",
    "\n",
    "response = get_completion(prompt)\n",
    "print(response)\n"
   ]
  },
  {
   "attachments": {},
   "cell_type": "markdown",
   "id": "cd9d3928",
   "metadata": {},
   "source": [
    "## Format Conversion"
   ]
  },
  {
   "attachments": {},
   "cell_type": "markdown",
   "id": "375b8955",
   "metadata": {},
   "source": [
    "Translate between different formats such as json, html, csv, etc."
   ]
  },
  {
   "cell_type": "code",
   "execution_count": null,
   "id": "63f5aadf",
   "metadata": {},
   "outputs": [],
   "source": [
    "data_json = {\n",
    "    \"courses\": [\n",
    "        {\n",
    "            \"id\": \"0001\",\n",
    "            \"name\": \"C Programming\"\n",
    "        },\n",
    "        {\n",
    "            \"id\": \"0002\",\n",
    "            \"name\": \"Data Structures and Algorithms\"},\n",
    "        {\n",
    "            \"id\": \"0003\",\n",
    "            \"name\": \"Artificial Intelligence\",\n",
    "        }\n",
    "    ]\n",
    "}\n"
   ]
  },
  {
   "cell_type": "code",
   "execution_count": null,
   "id": "e041df59",
   "metadata": {},
   "outputs": [],
   "source": [
    "prompt = f'''\n",
    "Convert the following JSON to HTML table with column headers and title {data_json}\n",
    "'''\n",
    "\n",
    "response = get_completion(prompt)\n",
    "print(response)\n"
   ]
  },
  {
   "attachments": {},
   "cell_type": "markdown",
   "id": "eb8f4178",
   "metadata": {},
   "source": [
    "### Import the Ipython display module for various output formats"
   ]
  },
  {
   "cell_type": "code",
   "execution_count": null,
   "id": "68fb99fb",
   "metadata": {},
   "outputs": [],
   "source": [
    "from IPython.display import display, Markdown, Latex, HTML, JSON\n"
   ]
  },
  {
   "attachments": {},
   "cell_type": "markdown",
   "id": "78601d3a",
   "metadata": {},
   "source": [
    "### Display the tabular format of the data"
   ]
  },
  {
   "cell_type": "code",
   "execution_count": null,
   "id": "2ae90b1c",
   "metadata": {},
   "outputs": [],
   "source": [
    "display(HTML(response))\n"
   ]
  },
  {
   "attachments": {},
   "cell_type": "markdown",
   "id": "0549b929",
   "metadata": {},
   "source": [
    "## Spelling/Grammer checking"
   ]
  },
  {
   "attachments": {},
   "cell_type": "markdown",
   "id": "6312d591",
   "metadata": {},
   "source": [
    "To signal to the LLM that you want it to proofread your text, you instruct the model to 'proofread' or 'proofread and correct'."
   ]
  },
  {
   "cell_type": "code",
   "execution_count": null,
   "id": "eab0d4f3",
   "metadata": {},
   "outputs": [],
   "source": [
    "text = [\n",
    "    # The girl has a ball.\n",
    "    \"The girl with the black and white puppies have a ball.\",\n",
    "    \"Yolanda has her notebook.\",  # ok\n",
    "    \"Its going to be a long day. Does the car need it's oil changed?\",  # Homonyms\n",
    "    \"Their goes my freedom. There going to bring they're suitcases.\",  # Homonyms\n",
    "    \"Your going to need you're notebook.\",  # Homonyms\n",
    "    \"That medicine effects my ability to sleep. Have you heard of the butterfly affect?\",  # Homonyms\n",
    "    \"This phrase is to cherck chatGPT for speling abilitty\"  # spelling\n",
    "]\n"
   ]
  },
  {
   "cell_type": "code",
   "execution_count": null,
   "id": "59021f47",
   "metadata": {},
   "outputs": [],
   "source": [
    "for t in text:\n",
    "    prompt = f'''\n",
    "    Proofread and correct the following text and rewrite the corrected version. If you don't find any errors, just say \"No errors found\". Don't use any punctuation around the text: ```{t}```\n",
    "    '''\n",
    "\n",
    "    response = get_completion(prompt)\n",
    "    print(response)\n"
   ]
  },
  {
   "cell_type": "code",
   "execution_count": null,
   "id": "590e86ff",
   "metadata": {},
   "outputs": [],
   "source": [
    "text = f'''\n",
    "Got this for my daughter for her birthday cuz she keeps taking mine from my room. Yes, adults also like pandas too. She takes it everywhere with her, and it's super soft and cute. \\\n",
    "One of the ears is a bit lower than the other, and I don't think that was designed to be asymmetrical. It's a bit small for what I paid for it though. \\\n",
    "I think there might be other options that are bigger for the same price. It arrived a day earlier than expected, so I got to play with it myself before I gave it to my daughter.\n",
    "'''\n",
    "prompt = f\"Proofread and correct this review: ```{text}```\"\n",
    "\n",
    "response = get_completion(prompt)\n",
    "print(response)\n"
   ]
  },
  {
   "attachments": {},
   "cell_type": "markdown",
   "id": "8de20ede",
   "metadata": {},
   "source": [
    "### Check changed words and redline the changed"
   ]
  },
  {
   "cell_type": "code",
   "execution_count": null,
   "id": "64cdddf1",
   "metadata": {},
   "outputs": [],
   "source": [
    "from redlines import Redlines\n",
    "\n",
    "diff = Redlines(text, response)\n",
    "display(Markdown(diff.output_markdown))\n"
   ]
  },
  {
   "attachments": {},
   "cell_type": "markdown",
   "id": "96f5a3c4",
   "metadata": {},
   "source": [
    "### Proofread and generate APA style markdown"
   ]
  },
  {
   "cell_type": "code",
   "execution_count": null,
   "id": "49f1a58d",
   "metadata": {},
   "outputs": [],
   "source": [
    "prompt = f'''\n",
    "Proofread and correct this review. Make it more compelling. \n",
    "Ensure it follows APA style guide and targets an advanced reader. \n",
    "Output in markdown format.\n",
    "Text: ```{text}```\n",
    "'''\n",
    "\n",
    "response = get_completion(prompt)\n",
    "display(Markdown(response))\n"
   ]
  }
 ],
 "metadata": {
  "kernelspec": {
   "display_name": "Python 3 (ipykernel)",
   "language": "python",
   "name": "python3"
  },
  "language_info": {
   "codemirror_mode": {
    "name": "ipython",
    "version": 3
   },
   "file_extension": ".py",
   "mimetype": "text/x-python",
   "name": "python",
   "nbconvert_exporter": "python",
   "pygments_lexer": "ipython3",
   "version": "3.11.2"
  }
 },
 "nbformat": 4,
 "nbformat_minor": 5
}
