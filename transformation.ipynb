{
 "cells": [
  {
   "attachments": {},
   "cell_type": "markdown",
   "id": "056a1ccd",
   "metadata": {},
   "source": [
    "# Transforming"
   ]
  },
  {
   "attachments": {},
   "cell_type": "markdown",
   "id": "889ac061",
   "metadata": {},
   "source": [
    "Exploring how to use Large Language Models(LLMs) for text transformation tasks such as:\n",
    "1. language translation\n",
    "2. spelling and grammer checking\n",
    "3. tone adjustment\n",
    "4. format conversation"
   ]
  },
  {
   "attachments": {},
   "cell_type": "markdown",
   "id": "c034e3c3",
   "metadata": {},
   "source": [
    "## Setup"
   ]
  },
  {
   "cell_type": "code",
   "execution_count": null,
   "id": "278b9400",
   "metadata": {},
   "outputs": [],
   "source": [
    "import openai\n",
    "import os\n",
    "import time\n",
    "\n",
    "from dotenv import load_dotenv, find_dotenv\n",
    "_ = load_dotenv(find_dotenv())\n",
    "\n",
    "openai.api_key = os.getenv('OPENAI_API_KEY')\n"
   ]
  },
  {
   "attachments": {},
   "cell_type": "markdown",
   "id": "f2b00bc3",
   "metadata": {},
   "source": [
    "## Completion function\n",
    "\n",
    "This function will be used to generate the required response based on the input prompts and user requirements."
   ]
  },
  {
   "cell_type": "code",
   "execution_count": null,
   "id": "05953b02",
   "metadata": {},
   "outputs": [],
   "source": [
    "def get_completion(prompt, model=\"gpt-3.5-turbo\", temperature=0):\n",
    "    messages = [\n",
    "        {\n",
    "            \"role\": \"user\",\n",
    "            \"content\": prompt\n",
    "        }\n",
    "    ]\n",
    "    response = None\n",
    "    while response is None:\n",
    "        try:\n",
    "            response = openai.ChatCompletion.create(\n",
    "                model=model,\n",
    "                messages=messages,\n",
    "                temperature=temperature\n",
    "            )\n",
    "        except openai.error.RateLimitError:\n",
    "            print(\"Rate limit exceeded. Waiting for 1 second...\")\n",
    "            time.sleep(1)\n",
    "\n",
    "    return response.choices[0].message[\"content\"]\n"
   ]
  },
  {
   "attachments": {},
   "cell_type": "markdown",
   "id": "67efc7ed",
   "metadata": {},
   "source": [
    "## Translation"
   ]
  },
  {
   "attachments": {},
   "cell_type": "markdown",
   "id": "974ce7d1",
   "metadata": {},
   "source": [
    "LLMs are trained on large amounts of text data. This allows them to learn the structure of language and the meaning of words. This allows them to be used for translation tasks.\n",
    "\n",
    "They are able to translate between languages without being explicitly trained to do so. This is because they learn the structure of language and the meaning of words. This allows them to translate between languages without being explicitly trained to do so."
   ]
  },
  {
   "attachments": {},
   "cell_type": "markdown",
   "id": "c8235154",
   "metadata": {},
   "source": [
    "This can be helpful in situations where there is a lack of data for a particular language pair. For example, if there is a lack of data for a particular language pair, then the LLM can be used to translate between languages without being explicitly trained to do so.\n",
    "\n",
    "We can know what is the text explaining about by using the LLMs to translate between languages."
   ]
  },
  {
   "attachments": {},
   "cell_type": "markdown",
   "id": "fa16c4b2",
   "metadata": {},
   "source": [
    "#### For translating from English to French"
   ]
  },
  {
   "cell_type": "code",
   "execution_count": null,
   "id": "e6269adf",
   "metadata": {},
   "outputs": [],
   "source": [
    "prompt = '''\n",
    "Translate the following English text to French:\n",
    "```Hello, can you help me get to the nearest hospital?```\n",
    "'''\n",
    "\n",
    "reponse = get_completion(prompt)\n",
    "print(reponse)"
   ]
  },
  {
   "cell_type": "code",
   "execution_count": null,
   "id": "2b4fe710",
   "metadata": {},
   "outputs": [],
   "source": []
  }
 ],
 "metadata": {
  "kernelspec": {
   "display_name": "Python 3 (ipykernel)",
   "language": "python",
   "name": "python3"
  },
  "language_info": {
   "codemirror_mode": {
    "name": "ipython",
    "version": 3
   },
   "file_extension": ".py",
   "mimetype": "text/x-python",
   "name": "python",
   "nbconvert_exporter": "python",
   "pygments_lexer": "ipython3",
   "version": "3.11.2"
  }
 },
 "nbformat": 4,
 "nbformat_minor": 5
}
