{
 "cells": [
  {
   "attachments": {},
   "cell_type": "markdown",
   "metadata": {},
   "source": [
    "# Chatbot"
   ]
  },
  {
   "attachments": {},
   "cell_type": "markdown",
   "metadata": {},
   "source": [
    "Utilize the chat format to have extended conversations with the chatbots personalized or specialized to your needs."
   ]
  },
  {
   "cell_type": "code",
   "execution_count": null,
   "metadata": {},
   "outputs": [],
   "source": [
    "from utils import get_completion_from_messages\n",
    "from utils import collect_messages\n"
   ]
  },
  {
   "cell_type": "code",
   "execution_count": null,
   "metadata": {},
   "outputs": [],
   "source": [
    "messages = [\n",
    "    {'role': 'system', 'content': 'You are an assistant that speaks like Harry Potter.'},\n",
    "    {'role': 'user', 'content': 'tell me a joke'},\n",
    "    {'role': 'assistant', 'content': 'Why did the chicken cross the road'},\n",
    "    {'role': 'user', 'content': 'I don\\'t know'}\n",
    "]\n"
   ]
  },
  {
   "cell_type": "code",
   "execution_count": null,
   "metadata": {},
   "outputs": [],
   "source": [
    "response = get_completion_from_messages(messages, temperature=1)\n",
    "print(response)\n"
   ]
  },
  {
   "cell_type": "code",
   "execution_count": null,
   "metadata": {},
   "outputs": [],
   "source": [
    "messages = [\n",
    "    {'role': 'system', 'content': 'You are friendly chatbot.'},\n",
    "    {'role': 'user', 'content': 'Hi, my name is Bob'}\n",
    "]\n",
    "response = get_completion_from_messages(messages, temperature=1)\n",
    "print(response)\n"
   ]
  },
  {
   "attachments": {},
   "cell_type": "markdown",
   "metadata": {},
   "source": [
    "The model does not remember previous interactions."
   ]
  },
  {
   "cell_type": "code",
   "execution_count": null,
   "metadata": {},
   "outputs": [],
   "source": [
    "messages = [\n",
    "    {'role': 'system', 'content': 'You are friendly chatbot.'},\n",
    "    {'role': 'user', 'content': 'Yes,  can you remind me, What is my name?'}\n",
    "]\n",
    "response = get_completion_from_messages(messages, temperature=1)\n",
    "print(response)\n"
   ]
  },
  {
   "attachments": {},
   "cell_type": "markdown",
   "metadata": {},
   "source": [
    "Each interaction with the language model is a standalone interaction, i.e. the model does not remember the previous interactions. This is a limitation of the current implementation of the chatbot."
   ]
  },
  {
   "attachments": {},
   "cell_type": "markdown",
   "metadata": {},
   "source": [
    "If you want to have a conversation with the chatbot, you need to provide the context of the conversation in each interaction, i.e remember from the previous interaction."
   ]
  },
  {
   "cell_type": "code",
   "execution_count": null,
   "metadata": {},
   "outputs": [],
   "source": [
    "messages = [\n",
    "    {'role': 'system', 'content': 'You are friendly chatbot.'},\n",
    "    {'role': 'user', 'content': 'Hi, my name is Bob'},\n",
    "    {'role': 'assistant', 'content': \"Hi Bob! It's nice to meet you. Is there anything I can help you with today?\"},\n",
    "    {'role': 'user', 'content': 'Yes, you can remind me, What is my name?'}]\n",
    "response = get_completion_from_messages(messages, temperature=1)\n",
    "print(response)\n"
   ]
  },
  {
   "attachments": {},
   "cell_type": "markdown",
   "metadata": {},
   "source": [
    "## MomoBot"
   ]
  },
  {
   "attachments": {},
   "cell_type": "markdown",
   "metadata": {},
   "source": [
    "We can automate the collection of user prompts and assistant reponses to build a chatbot."
   ]
  },
  {
   "attachments": {},
   "cell_type": "markdown",
   "metadata": {},
   "source": [
    "The MomoBot will take orders at a pizza restaurant."
   ]
  },
  {
   "cell_type": "code",
   "execution_count": null,
   "metadata": {},
   "outputs": [],
   "source": [
    "import panel as pn\n",
    "pn.extension()\n",
    "\n",
    "panels = []  # collect display\n"
   ]
  },
  {
   "cell_type": "code",
   "execution_count": null,
   "metadata": {},
   "outputs": [],
   "source": [
    "# function for chatbot to collect messages\n",
    "def collect_messages(_):\n",
    "    prompt = inp.value_input\n",
    "    inp.value = ''\n",
    "\n",
    "    context.append(\n",
    "        {\n",
    "            'role': 'user',\n",
    "            'content': f\"{prompt}\"\n",
    "        }\n",
    "    )\n",
    "    response = get_completion_from_messages(context)\n",
    "\n",
    "    context.append({'role': 'assistant', 'content': f\"{response}\"})\n",
    "    panels.append(\n",
    "        pn.Row(\n",
    "            'User:', pn.pane.Markdown(prompt, width=600)\n",
    "        )\n",
    "    )\n",
    "\n",
    "    panels.append(\n",
    "        pn.Row(\n",
    "            'Assistant:', pn.pane.Markdown(response, width=600, style={\n",
    "                                           'background-color': '#F6F6F6'})\n",
    "        )\n",
    "    )\n",
    "\n",
    "    return pn.Column(*panels)\n"
   ]
  },
  {
   "cell_type": "code",
   "execution_count": null,
   "metadata": {},
   "outputs": [],
   "source": [
    "panels = []  # collect display\n",
    "\n",
    "context = [\n",
    "    {\n",
    "        'role': 'system',\n",
    "        'content': '''\n",
    "You are MomoBot, an automated service to collect orders for a momo restaurant. \\\n",
    "You first greet the customer, then collect the order, and then ask if it's a pickup or dine-in. \\\n",
    "You wait to collect the entire order, then summarize it and \\\n",
    "check for a final time if the customer wants to add anything else. \\\n",
    "Now give the total amount and ask for payment. \\\n",
    "The amount is in Rs.\\\n",
    "Finally, you collect the payment.\\\n",
    "Make sure to clarify all options, types and drinks, \\\n",
    "to uniquely identify the item from the menu.\\\n",
    "Drinks are arranged in 1litre, 1.5litre , 2litre bottles.\\\n",
    "You respond in a short, very conversational friendly style. \\\n",
    "If the customer asks for something that is not on the menu, \\\n",
    "you respond with \"Sorry, we don't have that.\" \\\n",
    "The menu includes \\\n",
    "Buff Momo 200\n",
    "Chicken Momo 200\n",
    "Veg Momo 160\n",
    "Pork Momo 200\n",
    "Paneer Momo 210 \\\n",
    "Types: \\\n",
    "Steam 0\n",
    "Kothey 40\n",
    "Fried 20 \\\n",
    "C 50 \\\n",
    "Jhol 30 \\\n",
    "Drinks: \\\n",
    "Coke 90, 180, 250\\\n",
    "Fanta 90, 180, 250 \\\n",
    "Sprite 90, 180, 250 \\\n",
    "Bottled water 69\n",
    "    '''\n",
    "    }\n",
    "]\n",
    "\n",
    "inp = pn.widgets.TextInput(value=\"Hi\", placeholder='Enter text here…')\n",
    "button_conversation = pn.widgets.Button(name=\"Chat!\")\n",
    "\n",
    "interactive_conversation = pn.bind(\n",
    "    collect_messages,\n",
    "    button_conversation\n",
    ")\n",
    "\n",
    "dashboard = pn.Column(\n",
    "    inp,\n",
    "    pn.Row(button_conversation),\n",
    "    pn.panel(interactive_conversation, loading_indicator=True, height=300),\n",
    ")\n"
   ]
  },
  {
   "attachments": {},
   "cell_type": "markdown",
   "metadata": {},
   "source": [
    "Display the dashboard of the chatbot.\n"
   ]
  },
  {
   "cell_type": "code",
   "execution_count": null,
   "metadata": {},
   "outputs": [],
   "source": [
    "dashboard\n"
   ]
  },
  {
   "attachments": {},
   "cell_type": "markdown",
   "metadata": {},
   "source": [
    "Now, create a json file for the orders."
   ]
  },
  {
   "cell_type": "code",
   "execution_count": null,
   "metadata": {},
   "outputs": [],
   "source": [
    "messages = context.copy()\n",
    "messages.append(\n",
    "    {\n",
    "        'role': 'system',\n",
    "        'content': 'Create a json summary of the previous food order.\\\n",
    "            Itemize the price for each item\\\n",
    "            The fields should be 1) Momo, include type 2) List of drinks, include size\\\n",
    "            3) Total price'\n",
    "    }\n",
    ")\n",
    "\n",
    "response = get_completion_from_messages(messages, temperature=0)\n",
    "print(response)\n"
   ]
  }
 ],
 "metadata": {
  "kernelspec": {
   "display_name": "Python 3",
   "language": "python",
   "name": "python3"
  },
  "language_info": {
   "codemirror_mode": {
    "name": "ipython",
    "version": 3
   },
   "file_extension": ".py",
   "mimetype": "text/x-python",
   "name": "python",
   "nbconvert_exporter": "python",
   "pygments_lexer": "ipython3",
   "version": "3.11.2"
  },
  "orig_nbformat": 4
 },
 "nbformat": 4,
 "nbformat_minor": 2
}
