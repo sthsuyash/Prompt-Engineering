{
 "cells": [
  {
   "attachments": {},
   "cell_type": "markdown",
   "metadata": {},
   "source": [
    "# Expanding"
   ]
  },
  {
   "attachments": {},
   "cell_type": "markdown",
   "metadata": {},
   "source": [
    "Expanding is the task of taking a short piece of text such as topic and using LLMs to generate larger text such as emails or essays. This is a common task in NLP and is often referred to as text generation."
   ]
  },
  {
   "attachments": {},
   "cell_type": "markdown",
   "metadata": {},
   "source": [
    "## Setup"
   ]
  },
  {
   "cell_type": "code",
   "execution_count": null,
   "metadata": {},
   "outputs": [],
   "source": [
    "from utils import get_completion\n"
   ]
  },
  {
   "attachments": {},
   "cell_type": "markdown",
   "metadata": {},
   "source": [
    "## Customize the automated reply to customer emails"
   ]
  },
  {
   "cell_type": "code",
   "execution_count": null,
   "metadata": {},
   "outputs": [],
   "source": [
    "# Review\n",
    "review = f'''\n",
    "I recently purchased the VersaFit Pro Fitness Tracker from KonstaMart, and I have to say, it was a complete waste of my hard-earned money. \\\n",
    "This experience has left me utterly dissatisfied with both the product and KonstaMart's pricing policies. Let me share my grievances with you.\n",
    "\n",
    "First and foremost, the price of the VersaFit Pro Fitness Tracker is outrageously high compared to similar products on the market. \\\n",
    "I expected a premium experience considering the hefty price tag, but unfortunately, this device fell far short of my expectations. The quality of the materials used in its construction felt cheap and flimsy. \\\n",
    "It's astonishing how KonstaMart can justify such exorbitant pricing for a product that lacks in both build quality and functionality.\n",
    "\n",
    "Moreover, the VersaFit Pro Fitness Tracker's features were lackluster and failed to deliver what was promised. The step counter was highly inaccurate, \\\n",
    "often miscounting my steps and providing inconsistent data. The heart rate monitor was equally unreliable, producing erratic readings that made it impossible to trust the device's accuracy.\\\n",
    "It's frustrating to spend a significant amount of money on a product that fails to perform its basic functions.\n",
    "\n",
    "To make matters worse, KonstaMart's customer service was absolutely abysmal. When I reached out to them to express my concerns and request a refund, \\\n",
    "I was met with indifference and a lack of willingness to address the issue. Their dismissive attitude towards customer complaints only added insult to injury.\n",
    "\n",
    "Overall, my experience with the VersaFit Pro Fitness Tracker from KonstaMart has left a bitter taste in my mouth. \\\n",
    "The inflated pricing, subpar quality, and unresponsive customer service have made me regret ever considering this purchase. \\\n",
    "I strongly advise potential buyers to steer clear of this product and KonstaMart as a whole. \\\n",
    "Save your hard-earned money and invest it in a reliable and reputable brand that values its customers' satisfaction.\n",
    "\n",
    "In conclusion, my advice is simple: avoid the VersaFit Pro Fitness Tracker from KonstaMart at all costs. The combination of overpricing, poor quality, \\\n",
    "and lackluster customer service make this a purchase you'll undoubtedly regret. Spare yourself the disappointment and look elsewhere for a superior product and a more satisfying shopping experience.\n",
    "'''\n"
   ]
  },
  {
   "attachments": {},
   "cell_type": "markdown",
   "metadata": {},
   "source": [
    "### Extract the sentiment of the email"
   ]
  },
  {
   "cell_type": "code",
   "execution_count": null,
   "metadata": {},
   "outputs": [],
   "source": [
    "prompt = f'''\n",
    "What is the sentiment of the review below?\n",
    "```{review}```\n",
    "Give your answer in one word: positive, negative, or neutral\n",
    "'''\n",
    "\n",
    "response = get_completion(prompt)\n",
    "sentiment = response  # assign the response to the sentiment variable\n",
    "print(response)\n"
   ]
  },
  {
   "attachments": {},
   "cell_type": "markdown",
   "metadata": {},
   "source": [
    "### Generate a reply"
   ]
  },
  {
   "cell_type": "code",
   "execution_count": null,
   "metadata": {},
   "outputs": [],
   "source": [
    "prompt = f'''\n",
    "You are a customer service AI assistant.\n",
    "Your task is to send an email reply to a valued customer.\n",
    "Given the customer email delimited by ```, generate a reply to thank the customer for their review.\n",
    "\n",
    "If the sentiment is positive or neutral, thank them for their review.\n",
    "If the sentiment is negative, apologize and suggest that they can reach out to customer service. \n",
    "\n",
    "Make sure to use specific details from the review.\n",
    "Write in a concise and professional tone.\n",
    "Generate maximum of 100 words.\n",
    "Sign the email as `AI customer agent`.\n",
    "\n",
    "Customer review: ```{review}```\n",
    "Review sentiment: {sentiment}\n",
    "'''\n",
    "\n",
    "response = get_completion(prompt)\n",
    "print(response)\n"
   ]
  },
  {
   "attachments": {},
   "cell_type": "markdown",
   "metadata": {},
   "source": [
    "#### Temperature of the generated text"
   ]
  },
  {
   "attachments": {},
   "cell_type": "markdown",
   "metadata": {},
   "source": [
    "For tasks that require higher variety, use higher temperature. For tasks that require higher quality, use lower temperature."
   ]
  },
  {
   "attachments": {},
   "cell_type": "markdown",
   "metadata": {},
   "source": [
    "### Generate a reply with a different temperature"
   ]
  },
  {
   "cell_type": "code",
   "execution_count": null,
   "metadata": {},
   "outputs": [],
   "source": [
    "prompt = f'''\n",
    "You are a customer service AI assistant.\n",
    "Your task is to send an email reply to a valued customer.\n",
    "Given the customer email delimited by ```, generate a reply to thank the customer for their review.\n",
    "\n",
    "If the sentiment is positive or neutral, thank them for their review.\n",
    "If the sentiment is negative, apologize and suggest that they can reach out to customer service. \n",
    "\n",
    "Make sure to use specific details from the review.\n",
    "Write in a concise and professional tone.\n",
    "Generate maximum of 100 words.\n",
    "Sign the email as `AI customer agent`.\n",
    "\n",
    "Customer review: ```{review}```\n",
    "Review sentiment: {sentiment}\n",
    "'''\n",
    "\n",
    "response = get_completion(prompt, temperature=0.7)\n",
    "print(response)\n"
   ]
  },
  {
   "attachments": {},
   "cell_type": "markdown",
   "metadata": {},
   "source": [
    "Now, this should give different results every time you run it."
   ]
  }
 ],
 "metadata": {
  "kernelspec": {
   "display_name": "Python 3",
   "language": "python",
   "name": "python3"
  },
  "language_info": {
   "codemirror_mode": {
    "name": "ipython",
    "version": 3
   },
   "file_extension": ".py",
   "mimetype": "text/x-python",
   "name": "python",
   "nbconvert_exporter": "python",
   "pygments_lexer": "ipython3",
   "version": "3.11.2"
  },
  "orig_nbformat": 4
 },
 "nbformat": 4,
 "nbformat_minor": 2
}
